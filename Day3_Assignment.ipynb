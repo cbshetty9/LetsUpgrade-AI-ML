{
 "cells": [
  {
   "cell_type": "markdown",
   "metadata": {},
   "source": [
    "#Q1: Write a program to subtract two complex numbers in Python"
   ]
  },
  {
   "cell_type": "code",
   "execution_count": 2,
   "metadata": {},
   "outputs": [
    {
     "name": "stdout",
     "output_type": "stream",
     "text": [
      "Subtraction of 2 complex number= (2-5j)\n"
     ]
    }
   ],
   "source": [
    "a = 3 + 7j\n",
    "b = 1 + 12j\n",
    "\n",
    "print('Subtraction of 2 complex number=', a - b)"
   ]
  },
  {
   "cell_type": "code",
   "execution_count": null,
   "metadata": {},
   "outputs": [],
   "source": [
    "#Q2: Write a program to find the fourth root of a number"
   ]
  },
  {
   "cell_type": "code",
   "execution_count": 1,
   "metadata": {},
   "outputs": [
    {
     "name": "stdout",
     "output_type": "stream",
     "text": [
      "Enter the number that you want to find the fourth root of: 3\n",
      "The fourth root of 3 is 1.3160740129524924\n"
     ]
    }
   ],
   "source": [
    "num = int(input(\"Enter the number that you want to find the fourth root of: \"))\n",
    "root = num**(1/4)\n",
    "print(\"The fourth root of\",num,\"is\",root)"
   ]
  },
  {
   "cell_type": "markdown",
   "metadata": {},
   "source": [
    "#Q3: Write a program to swap two number in python with the help of a temporary variable"
   ]
  },
  {
   "cell_type": "code",
   "execution_count": 8,
   "metadata": {},
   "outputs": [
    {
     "name": "stdout",
     "output_type": "stream",
     "text": [
      "Enter the number first number 34\n",
      "Enter the number second number 45\n",
      "num1 = 34 and num2 = 45\n",
      "***After swaping***\n",
      "num1 = 45 and num2 = 34\n"
     ]
    }
   ],
   "source": [
    "num1 = int(input(\"Enter the number first number \"))\n",
    "num2 = int(input(\"Enter the number second number \"))\n",
    "print(\"num1 =\",num1,\"and num2 =\",num2)\n",
    "print(\"***After swaping***\")\n",
    "temp=num1\n",
    "num1=num2\n",
    "num2=temp\n",
    "print(\"num1 =\",num1,\"and num2 =\",num2)"
   ]
  },
  {
   "cell_type": "code",
   "execution_count": null,
   "metadata": {},
   "outputs": [],
   "source": [
    "#Q4: Write a program to swap two number in python without the help of a temporary variable"
   ]
  },
  {
   "cell_type": "code",
   "execution_count": 3,
   "metadata": {},
   "outputs": [
    {
     "name": "stdout",
     "output_type": "stream",
     "text": [
      "Enter the number first number 1\n",
      "Enter the number second number 5\n",
      "num1 = 1 and num2 = 5\n",
      "***After swaping***\n",
      "num1 = 5 and num2 = 1\n"
     ]
    }
   ],
   "source": [
    "num1 = int(input(\"Enter the number first number \"))\n",
    "num2 = int(input(\"Enter the number second number \"))\n",
    "print(\"num1 =\",num1,\"and num2 =\",num2)\n",
    "print(\"***After swaping***\")\n",
    "num1,num2 = num2,num1\n",
    "print(\"num1 =\",num1,\"and num2 =\",num2)"
   ]
  },
  {
   "cell_type": "markdown",
   "metadata": {},
   "source": [
    "#Q5: Write a program to convert fahrenheit to kelvin and celcius both"
   ]
  },
  {
   "cell_type": "code",
   "execution_count": 11,
   "metadata": {},
   "outputs": [
    {
     "name": "stdout",
     "output_type": "stream",
     "text": [
      "Enter the temperature in Fahrenheit32\n",
      "The temperature in Kelvin is 273.15 K\n",
      "The temperature in Celcius is 0.0 C\n"
     ]
    }
   ],
   "source": [
    "tempF = float(input(\"Enter the temperature in Fahrenheit\"))\n",
    "tempK = (tempF-32)*(5/9)+273.15\n",
    "print(\"The temperature in Kelvin is\",tempK,\"K\")\n",
    "tempC = (tempF-32)*(5/9)\n",
    "print(\"The temperature in Celcius is\",tempC,\"C\")"
   ]
  },
  {
   "cell_type": "markdown",
   "metadata": {},
   "source": [
    "#Q6: Write a program to demonstrate all the available data types in Python. Hint: Use type() function."
   ]
  },
  {
   "cell_type": "code",
   "execution_count": 4,
   "metadata": {},
   "outputs": [
    {
     "name": "stdout",
     "output_type": "stream",
     "text": [
      "<class 'int'>\n",
      "<class 'float'>\n",
      "<class 'str'>\n",
      "<class 'complex'>\n",
      "<class 'bool'>\n"
     ]
    }
   ],
   "source": [
    "a = type(1)\n",
    "b = type(3.0)\n",
    "c= type(\"abc\")\n",
    "d = type(2.4j)\n",
    "e = type(True)\n",
    "print(a)\n",
    "print(b)\n",
    "print(c)\n",
    "print(d)\n",
    "print(e)"
   ]
  },
  {
   "cell_type": "markdown",
   "metadata": {},
   "source": [
    "#Q7: \n",
    "1. Create profile in Github\n",
    "2. Create a repository in Github under tour profile\n",
    "3. Upload assignments in the created repository\n",
    "5. Open the assignnment usbmission form\n",
    "6. Add the link to the the github assignment repository\n",
    "7. Submit the assignment form"
   ]
  }
 ],
 "metadata": {
  "kernelspec": {
   "display_name": "Python 3",
   "language": "python",
   "name": "python3"
  },
  "language_info": {
   "codemirror_mode": {
    "name": "ipython",
    "version": 3
   },
   "file_extension": ".py",
   "mimetype": "text/x-python",
   "name": "python",
   "nbconvert_exporter": "python",
   "pygments_lexer": "ipython3",
   "version": "3.7.4"
  }
 },
 "nbformat": 4,
 "nbformat_minor": 2
}
