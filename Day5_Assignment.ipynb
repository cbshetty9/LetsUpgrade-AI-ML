{
 "cells": [
  {
   "cell_type": "markdown",
   "metadata": {},
   "source": [
    "#Q1: Write program to find first 20 non even prime natural numbers"
   ]
  },
  {
   "cell_type": "code",
   "execution_count": 24,
   "metadata": {},
   "outputs": [
    {
     "name": "stdout",
     "output_type": "stream",
     "text": [
      "***Printing the first 20 non even prime natural numbers***\n",
      "2\n",
      "3\n",
      "5\n",
      "7\n",
      "11\n",
      "13\n",
      "17\n",
      "19\n",
      "23\n",
      "29\n",
      "31\n",
      "37\n",
      "41\n",
      "43\n",
      "47\n",
      "53\n",
      "59\n",
      "61\n",
      "67\n",
      "71\n",
      "73\n",
      "79\n",
      "83\n",
      "89\n",
      "97\n",
      "101\n",
      "103\n",
      "107\n",
      "109\n",
      "113\n"
     ]
    }
   ],
   "source": [
    "primeN = 2\n",
    "print(\"***Printing the first 20 non even prime natural numbers***\")\n",
    "count=0\n",
    "div = 0\n",
    "while count<30:\n",
    "    for i in range(1,primeN):\n",
    "        if(primeN%i==0):\n",
    "            div+=1\n",
    "    if(div==1):\n",
    "        print(primeN)\n",
    "        count+=1\n",
    "    primeN+=1\n",
    "    div=0"
   ]
  },
  {
   "cell_type": "code",
   "execution_count": null,
   "metadata": {},
   "outputs": [],
   "source": [
    "#Q2: Write a Python program to implement 15 functions of string."
   ]
  },
  {
   "cell_type": "code",
   "execution_count": 17,
   "metadata": {},
   "outputs": [
    {
     "name": "stdout",
     "output_type": "stream",
     "text": [
      "hello, my friend\n",
      "HELLO, MY FRIEND\n",
      "16\n",
      "Hello, my friend\n",
      "Hello, my friend\n",
      "Jello, my friend\n",
      "['Hello', ' my friend']\n",
      "Hello 36\n",
      "1\n",
      "Hello, My Friend\n",
      "False\n",
      "True\n",
      "False\n",
      "False\n",
      "False\n",
      "-1\n"
     ]
    }
   ],
   "source": [
    "age = 36\n",
    "user_string = \"Hello, my friend\"\n",
    "user = \"Hello {}\"\n",
    "\n",
    "print(user_string.lower())\n",
    "print(user_string.upper())\n",
    "print(len(user_string))\n",
    "print(user_string.strip())\n",
    "print(user_string.capitalize())\n",
    "print(user_string.replace(\"H\", \"J\"))\n",
    "print(user_string.split(\",\"))\n",
    "print(user.format(age))\n",
    "print(user_string.count(\"Hello\"))\n",
    "print(user_string.title())\n",
    "print(user_string.istitle())\n",
    "print(user_string.startswith(\"Hello\"))\n",
    "print(user_string.isupper())\n",
    "print(user_string.isdecimal())\n",
    "print(user_string.isdigit())\n",
    "print(user_string.find(\"he\"))"
   ]
  },
  {
   "cell_type": "markdown",
   "metadata": {},
   "source": [
    "Q3: To check if a given string is a Palindrome or Anagram or None of them"
   ]
  },
  {
   "cell_type": "code",
   "execution_count": 16,
   "metadata": {},
   "outputs": [
    {
     "name": "stdout",
     "output_type": "stream",
     "text": [
      "Enter the string to check whether it is a palindrome: sos\n",
      "The given string 'sos' is a palandrome.\n",
      "Enter the strings to check whether they are anagrams: dock,kocd\n",
      "The strings 'dock' and 'kocd' are anagrams\n"
     ]
    }
   ],
   "source": [
    "str1 = input(\"Enter the string to check whether it is a palindrome: \")\n",
    "str2 = str1[::-1]\n",
    "if(str1==str2):\n",
    "    print(\"The given string '{0}' is a palandrome.\".format(str2))\n",
    "str1,str2 = input(\"Enter the strings to check whether they are anagrams: \").split(\",\")\n",
    "l1 = list(str1)\n",
    "l2 = list(str2)\n",
    "l1 = sorted(l1)\n",
    "l2 = sorted(l2)\n",
    "\n",
    "if(l1==l2):\n",
    "    print(\"The strings '{0}' and '{1}' are anagrams\".format(str1,str2))"
   ]
  },
  {
   "cell_type": "markdown",
   "metadata": {},
   "source": [
    "#Q4: Write a Python's user defined function that removes all the additional characters from the string\n",
    "and converts it finally to lower case using built-in lower(). eg: If the string is \"Dr. Darshan Ingle\n",
    "@AI-ML Trainer\", then the output be \"drdarshaningleaimltrainer\"."
   ]
  },
  {
   "cell_type": "code",
   "execution_count": 18,
   "metadata": {},
   "outputs": [
    {
     "name": "stdout",
     "output_type": "stream",
     "text": [
      "drdarshaningleaimltrainer\n"
     ]
    }
   ],
   "source": [
    "user_string = \"Dr. Darshan Ingle @AI-ML Trainer\"\n",
    "remove_characters = \".@-  \"\n",
    "new_string =  user_string\n",
    "for character in remove_characters:\n",
    "    new_string = new_string.replace(character, \"\")\n",
    "\n",
    "print(new_string.lower())"
   ]
  },
  {
   "cell_type": "code",
   "execution_count": null,
   "metadata": {},
   "outputs": [],
   "source": []
  }
 ],
 "metadata": {
  "kernelspec": {
   "display_name": "Python 3",
   "language": "python",
   "name": "python3"
  },
  "language_info": {
   "codemirror_mode": {
    "name": "ipython",
    "version": 3
   },
   "file_extension": ".py",
   "mimetype": "text/x-python",
   "name": "python",
   "nbconvert_exporter": "python",
   "pygments_lexer": "ipython3",
   "version": "3.7.4"
  }
 },
 "nbformat": 4,
 "nbformat_minor": 2
}
