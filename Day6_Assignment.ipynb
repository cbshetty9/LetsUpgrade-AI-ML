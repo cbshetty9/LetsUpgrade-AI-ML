{
 "cells": [
  {
   "cell_type": "code",
   "execution_count": 20,
   "metadata": {},
   "outputs": [
    {
     "name": "stdout",
     "output_type": "stream",
     "text": [
      "Enter the email address: abc@gmail.com\n",
      "3\n",
      "9\n",
      "gmail\n"
     ]
    }
   ],
   "source": [
    "#Q1: Assuming that we have some email addresses in the \"username@companyname.com\" format, please write program\n",
    "#to print the company name of a given email address. Both user names and company names are composed of letters\n",
    "#only.\n",
    "\n",
    "\n",
    "email=input(\"Enter the email address: \")\n",
    "pos1=email.index('@')\n",
    "#print(pos1)\n",
    "pos2=email.index('.')\n",
    "#print(pos2)\n",
    "print(email[(pos1+1):pos2])"
   ]
  },
  {
   "cell_type": "code",
   "execution_count": 22,
   "metadata": {},
   "outputs": [
    {
     "name": "stdout",
     "output_type": "stream",
     "text": [
      "Enter the sequence: 5,43,5,43,2,33,2\n",
      "Sorted sequence:  2 2 33 43 43 5 5\n"
     ]
    }
   ],
   "source": [
    "#Q2: Write a program that accepts a comma-separated sequence of words as input and prints the words in a comma\n",
    "#separated sequence after sorting them alphabetically\n",
    "\n",
    "items=[x for x in input(\"Enter the sequence: \").split(',')]\n",
    "items.sort()\n",
    "print (\"Sorted sequence:\",' '.join(items))"
   ]
  },
  {
   "cell_type": "markdown",
   "metadata": {},
   "source": [
    "# Q3: Create your own Jupyter Notebook for Sets.\n",
    "\n",
    "# Sets: \n",
    "- It is an unordered and unindexed collection.\n",
    "- It stores only unique elements\n",
    "- Sets are written within curly brackets\n",
    "\n",
    "set1 = {2,3,\"ABC\"}\n",
    "\n",
    "# Accessing sets\n",
    "Sets cannot be accessed through indexing.\n",
    "You can loop through the set items using a for loop, or ask if a specified value is present in a set, by using the in keyword\n",
    "\n",
    "set1 = {2,3,\"ABC\"}\n",
    "print(\"ABC\" in set1) --> True\n",
    "\n",
    "# Altering a set:\n",
    "Once a set is created, you cannot change its items, but you can add new items using add and update functions.\n",
    "\n",
    "- add() to add single item\n",
    "set1.add(\"DEF\")\n",
    "print(set1) --> {2,3,\"ABC\",\"DEF\"}\n",
    "\n",
    "- update() to add multiple items\n",
    "\n",
    "set1.add(\"XYZ\",\"5\")\n",
    "print(set1) --> {2,3,\"ABC\",\"XYZ\",\"DEF\",5}\n",
    "\n",
    "# Length of the set\n",
    "\n",
    "print(len(set1)) --> 6\n",
    "\n",
    "# Remove Elements\n",
    "\n",
    "To remove an item in a set, use the remove(), or the discard() method.\n",
    "\n",
    "set1.remove(\"ABC\")\n",
    "print(set1) --> {2,3,\"XYZ\",\"DEF\",5}\n",
    "\n",
    "You can also use the pop(), method to remove an item, but this method will remove the last item. Remember that sets are unordered, so you will not know what item that gets removed.\n",
    "\n",
    "The return value of the pop() method is the removed item.\n",
    "p = set1.pop()\n",
    "print(p) --> 5\n",
    "\n",
    "# Clear the set\n",
    "\n",
    "- The clear() method empties the set\n",
    "\n",
    "set1.clear()\n",
    "print(set1) --> {}\n",
    "\n",
    "- The del keyword will delete the set completely\n",
    "\n",
    "del set1\n",
    "\n",
    "# Join Two Sets\n",
    "- There are several ways to join two or more sets in Python.\n",
    "\n",
    "- You can use the union() method that returns a new set containing all items from both sets, or the update() method that inserts all the items from one set into another\n",
    "\n",
    "set1 = {\"a\", \"b\" , \"c\"}\n",
    "set2 = {1, 2, 3}\n",
    "\n",
    "set3 = set1.union(set2)\n",
    "print(set3)\n",
    "\n",
    "- The update() method inserts the items in set2 into set1\n",
    "\n",
    "set1 = {\"a\", \"b\" , \"c\"}\n",
    "set2 = {1, 2, 3}\n",
    "\n",
    "set1.update(set2)\n",
    "print(set1)\n",
    "\n",
    "# set() Constructor\n",
    "\n",
    "s = set((\"a\", \"b\", \"c\")) # note the double round-brackets\n",
    "print(s) --> {abc}\n",
    "\n"
   ]
  },
  {
   "cell_type": "code",
   "execution_count": 28,
   "metadata": {},
   "outputs": [
    {
     "name": "stdout",
     "output_type": "stream",
     "text": [
      "Enter the Numbers: 1 2 4 5 6 7 8\n",
      "Missing Number is - 3\n"
     ]
    }
   ],
   "source": [
    "#Q4: Given a list of n-1 numbers ranging from 1 to n, your task is to find the missing number. There are no duplicates.\n",
    "\n",
    "L = (input(\"Enter the Numbers: \").split(\" \"))\n",
    "\n",
    "for i in range(1,len(L)+2):\n",
    "    if(str(i) not in L):\n",
    "        print(\"Missing Number is -\",i)\n"
   ]
  },
  {
   "cell_type": "code",
   "execution_count": 14,
   "metadata": {},
   "outputs": [
    {
     "name": "stdout",
     "output_type": "stream",
     "text": [
      "[1, 1, 1, 2, 1, 1, 1, 2, 2, 2]\n",
      "[12, 24, 35, 88, 120, 155]\n"
     ]
    }
   ],
   "source": [
    "#Q5: With a given list L, write a program to print this list L after removing all duplicate values with original order reserved.\n",
    "\n",
    "L = [12,24,35,24,88,120,155,88,120,155]\n",
    "\n",
    "C = []\n",
    "for i in range(len(L)):\n",
    "    cnt=0\n",
    "    for j in range(0,i+1):\n",
    "        if(L[i]==L[j]):\n",
    "            cnt+=1\n",
    "    C.append(cnt)\n",
    "#print(C)\n",
    "newList =[]\n",
    "for i in range(len(C)):\n",
    "    if(C[i]==1):\n",
    "        newList.append(L[i])\n",
    "print(newList)\n",
    "    "
   ]
  },
  {
   "cell_type": "code",
   "execution_count": null,
   "metadata": {},
   "outputs": [],
   "source": []
  }
 ],
 "metadata": {
  "kernelspec": {
   "display_name": "Python 3",
   "language": "python",
   "name": "python3"
  },
  "language_info": {
   "codemirror_mode": {
    "name": "ipython",
    "version": 3
   },
   "file_extension": ".py",
   "mimetype": "text/x-python",
   "name": "python",
   "nbconvert_exporter": "python",
   "pygments_lexer": "ipython3",
   "version": "3.7.4"
  }
 },
 "nbformat": 4,
 "nbformat_minor": 2
}
